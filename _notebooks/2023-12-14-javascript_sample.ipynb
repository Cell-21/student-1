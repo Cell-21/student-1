{
 "cells": [
  {
   "cell_type": "markdown",
   "metadata": {},
   "source": [
    "---\n",
    "toc: false\n",
    "comments: false\n",
    "layout: post\n",
    "title: Juypter notebook\n",
    "description: A pretty advanced use of JavaScript building classic snake game using menu controls, key events, snake simulation and timers.\n",
    "type: tangibles\n",
    "courses: { compsci: {week: 2} }\n",
    "---"
   ]
  },
  {
   "cell_type": "code",
   "execution_count": 7,
   "metadata": {},
   "outputs": [
    {
     "data": {
      "application/javascript": "\n// assign variable\nvar Sup = \"Whats going on?\"\nconsole.log(\"variable: Sup\")\nconsole.log(Sup)\n\n// seeing the type of this data\nconsole.log(\"variable: hello check typeof\")\nconsole.log(typeof Sup)\n\n// add strings together\nconsole.log(\"string concatenation: Sup + Safin!\")\nconsole.log(Sup + \" Safin!\")\n",
      "text/plain": [
       "<IPython.core.display.Javascript object>"
      ]
     },
     "metadata": {},
     "output_type": "display_data"
    }
   ],
   "source": [
    "%%js\n",
    "\n",
    "// assign variable\n",
    "var Sup = \"Whats going on?\"\n",
    "console.log(\"variable: Sup\")\n",
    "console.log(Sup)\n",
    "\n",
    "// seeing the type of this data\n",
    "console.log(\"variable: hello check typeof\")\n",
    "console.log(typeof Sup)\n",
    "\n",
    "// add strings together\n",
    "console.log(\"string concatenation: Sup + Safin!\")\n",
    "console.log(Sup + \" Safin!\")"
   ]
  }
 ],
 "metadata": {
  "kernelspec": {
   "display_name": "Python 3",
   "language": "python",
   "name": "python3"
  },
  "language_info": {
   "codemirror_mode": {
    "name": "ipython",
    "version": 3
   },
   "file_extension": ".py",
   "mimetype": "text/x-python",
   "name": "python",
   "nbconvert_exporter": "python",
   "pygments_lexer": "ipython3",
   "version": "3.10.12"
  }
 },
 "nbformat": 4,
 "nbformat_minor": 2
}
